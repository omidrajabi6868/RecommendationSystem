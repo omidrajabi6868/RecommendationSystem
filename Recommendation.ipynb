{
 "cells": [
  {
   "cell_type": "code",
   "execution_count": 1,
   "metadata": {
    "colab": {
     "base_uri": "https://localhost:8080/"
    },
    "executionInfo": {
     "elapsed": 416,
     "status": "ok",
     "timestamp": 1675881281077,
     "user": {
      "displayName": "OMID RAJABI ROSTAMI",
      "userId": "05887203354152499046"
     },
     "user_tz": 300
    },
    "id": "o_obrtJlQlxY",
    "outputId": "e1768547-4601-4d54-a6fe-f86425729c04"
   },
   "outputs": [],
   "source": [
    "# !pip install pickle5\n",
    "# %cd /content/drive/MyDrive/Colab\\ Notebooks"
   ]
  },
  {
   "cell_type": "code",
   "execution_count": 2,
   "metadata": {
    "id": "v1pT0t9mQoj_"
   },
   "outputs": [],
   "source": [
    "import pandas as pd\n",
    "import numpy as np\n",
    "import pickle as pickle\n",
    "from matplotlib import pyplot as plt\n",
    "\n",
    "from Network import Net\n",
    "from utils import *"
   ]
  },
  {
   "cell_type": "code",
   "execution_count": 3,
   "metadata": {
    "id": "zzxbOHivzR44"
   },
   "outputs": [],
   "source": [
    "train = pd.read_parquet('out/train.parquet')\n",
    "test = pd.read_parquet('out/test.parquet')"
   ]
  },
  {
   "cell_type": "code",
   "execution_count": 4,
   "metadata": {
    "colab": {
     "base_uri": "https://localhost:8080/"
    },
    "executionInfo": {
     "elapsed": 18,
     "status": "ok",
     "timestamp": 1675881309744,
     "user": {
      "displayName": "OMID RAJABI ROSTAMI",
      "userId": "05887203354152499046"
     },
     "user_tz": 300
    },
    "id": "D6uiMTGC0HFW",
    "outputId": "fb9decd7-be06-4357-f711-f1d39364916d"
   },
   "outputs": [
    {
     "data": {
      "text/plain": [
       "((163955180, 4), (7683577, 4))"
      ]
     },
     "execution_count": 4,
     "metadata": {},
     "output_type": "execute_result"
    }
   ],
   "source": [
    "# number of events in train and test data\n",
    "train.shape, test.shape"
   ]
  },
  {
   "cell_type": "code",
   "execution_count": 5,
   "metadata": {
    "colab": {
     "base_uri": "https://localhost:8080/",
     "height": 206
    },
    "executionInfo": {
     "elapsed": 15,
     "status": "ok",
     "timestamp": 1675881309745,
     "user": {
      "displayName": "OMID RAJABI ROSTAMI",
      "userId": "05887203354152499046"
     },
     "user_tz": 300
    },
    "id": "zrcEFZNS1kzj",
    "outputId": "76d8a5be-82f1-4d6a-e7cf-8f14b5db5961"
   },
   "outputs": [
    {
     "data": {
      "text/html": [
       "<div>\n",
       "<style scoped>\n",
       "    .dataframe tbody tr th:only-of-type {\n",
       "        vertical-align: middle;\n",
       "    }\n",
       "\n",
       "    .dataframe tbody tr th {\n",
       "        vertical-align: top;\n",
       "    }\n",
       "\n",
       "    .dataframe thead th {\n",
       "        text-align: right;\n",
       "    }\n",
       "</style>\n",
       "<table border=\"1\" class=\"dataframe\">\n",
       "  <thead>\n",
       "    <tr style=\"text-align: right;\">\n",
       "      <th></th>\n",
       "      <th>session</th>\n",
       "      <th>aid</th>\n",
       "      <th>ts</th>\n",
       "      <th>type</th>\n",
       "    </tr>\n",
       "  </thead>\n",
       "  <tbody>\n",
       "    <tr>\n",
       "      <th>0</th>\n",
       "      <td>0</td>\n",
       "      <td>1517085</td>\n",
       "      <td>1659304800</td>\n",
       "      <td>0</td>\n",
       "    </tr>\n",
       "    <tr>\n",
       "      <th>1</th>\n",
       "      <td>0</td>\n",
       "      <td>1563459</td>\n",
       "      <td>1659304904</td>\n",
       "      <td>0</td>\n",
       "    </tr>\n",
       "    <tr>\n",
       "      <th>2</th>\n",
       "      <td>0</td>\n",
       "      <td>1309446</td>\n",
       "      <td>1659367439</td>\n",
       "      <td>0</td>\n",
       "    </tr>\n",
       "    <tr>\n",
       "      <th>3</th>\n",
       "      <td>0</td>\n",
       "      <td>16246</td>\n",
       "      <td>1659367719</td>\n",
       "      <td>0</td>\n",
       "    </tr>\n",
       "    <tr>\n",
       "      <th>4</th>\n",
       "      <td>0</td>\n",
       "      <td>1781822</td>\n",
       "      <td>1659367871</td>\n",
       "      <td>0</td>\n",
       "    </tr>\n",
       "  </tbody>\n",
       "</table>\n",
       "</div>"
      ],
      "text/plain": [
       "   session      aid          ts  type\n",
       "0        0  1517085  1659304800     0\n",
       "1        0  1563459  1659304904     0\n",
       "2        0  1309446  1659367439     0\n",
       "3        0    16246  1659367719     0\n",
       "4        0  1781822  1659367871     0"
      ]
     },
     "execution_count": 5,
     "metadata": {},
     "output_type": "execute_result"
    }
   ],
   "source": [
    "train.head(5)"
   ]
  },
  {
   "cell_type": "code",
   "execution_count": 6,
   "metadata": {
    "colab": {
     "base_uri": "https://localhost:8080/"
    },
    "executionInfo": {
     "elapsed": 2123,
     "status": "ok",
     "timestamp": 1675881311855,
     "user": {
      "displayName": "OMID RAJABI ROSTAMI",
      "userId": "05887203354152499046"
     },
     "user_tz": 300
    },
    "id": "DOB2U-zT2Map",
    "outputId": "d38fe489-d334-4ced-f814-63ec8b068d43"
   },
   "outputs": [
    {
     "data": {
      "text/plain": [
       "(11098528, 1801251)"
      ]
     },
     "execution_count": 6,
     "metadata": {},
     "output_type": "execute_result"
    }
   ],
   "source": [
    "# number of sessions in train and test data\n",
    "train.session.unique().shape[0], test.session.unique().shape[0]"
   ]
  },
  {
   "cell_type": "code",
   "execution_count": 7,
   "metadata": {
    "colab": {
     "base_uri": "https://localhost:8080/"
    },
    "executionInfo": {
     "elapsed": 1897,
     "status": "ok",
     "timestamp": 1675881313746,
     "user": {
      "displayName": "OMID RAJABI ROSTAMI",
      "userId": "05887203354152499046"
     },
     "user_tz": 300
    },
    "id": "y1TEYzgt2MlH",
    "outputId": "25114b28-2a76-4b1b-dd99-62b7af8b6975"
   },
   "outputs": [
    {
     "data": {
      "text/plain": [
       "(1825499, 874852)"
      ]
     },
     "execution_count": 7,
     "metadata": {},
     "output_type": "execute_result"
    }
   ],
   "source": [
    "# number of unique items in train and test data\n",
    "train.aid.unique().shape[0], test.aid.unique().shape[0]"
   ]
  },
  {
   "cell_type": "code",
   "execution_count": 8,
   "metadata": {
    "colab": {
     "base_uri": "https://localhost:8080/",
     "height": 293
    },
    "executionInfo": {
     "elapsed": 5916,
     "status": "ok",
     "timestamp": 1675881319656,
     "user": {
      "displayName": "OMID RAJABI ROSTAMI",
      "userId": "05887203354152499046"
     },
     "user_tz": 300
    },
    "id": "ETejT0H-2MtD",
    "outputId": "2975b914-c01c-4aa7-b265-33d68a2dc92c"
   },
   "outputs": [
    {
     "data": {
      "text/plain": [
       "<AxesSubplot:>"
      ]
     },
     "execution_count": 8,
     "metadata": {},
     "output_type": "execute_result"
    },
    {
     "data": {
      "image/png": "[encoded data removed]",
      "text/plain": [
       "<Figure size 640x480 with 1 Axes>"
      ]
     },
     "metadata": {},
     "output_type": "display_data"
    }
   ],
   "source": [
    "# events per session in train data \n",
    "train.groupby('session')['aid'].count().apply(np.log1p).hist()"
   ]
  },
  {
   "cell_type": "code",
   "execution_count": 9,
   "metadata": {
    "colab": {
     "base_uri": "https://localhost:8080/",
     "height": 293
    },
    "executionInfo": {
     "elapsed": 45,
     "status": "ok",
     "timestamp": 1675881319658,
     "user": {
      "displayName": "OMID RAJABI ROSTAMI",
      "userId": "05887203354152499046"
     },
     "user_tz": 300
    },
    "id": "K8Dt6d012M2G",
    "outputId": "8b517a7c-a332-41c2-fccd-ffa9d7224706"
   },
   "outputs": [
    {
     "data": {
      "text/plain": [
       "<AxesSubplot:>"
      ]
     },
     "execution_count": 9,
     "metadata": {},
     "output_type": "execute_result"
    },
    {
     "data": {
      "image/png": "[encoded data removed]",
      "text/plain": [
       "<Figure size 640x480 with 1 Axes>"
      ]
     },
     "metadata": {},
     "output_type": "display_data"
    }
   ],
   "source": [
    "# events per session in test data\n",
    "test.groupby('session')['aid'].count().apply(np.log1p).hist()"
   ]
  },
  {
   "cell_type": "code",
   "execution_count": 10,
   "metadata": {
    "colab": {
     "base_uri": "https://localhost:8080/"
    },
    "executionInfo": {
     "elapsed": 43540,
     "status": "ok",
     "timestamp": 1675881363160,
     "user": {
      "displayName": "OMID RAJABI ROSTAMI",
      "userId": "05887203354152499046"
     },
     "user_tz": 300
    },
    "id": "2GfTw_xe2M-1",
    "outputId": "cb9707ad-d334-48a2-818b-c070150fb389"
   },
   "outputs": [
    {
     "name": "stdout",
     "output_type": "stream",
     "text": [
      "clicks: 147407286,clicks: 6958277\n",
      "carts: 12681932,carts: 650768\n",
      "orders: 3865962,orders: 74532\n"
     ]
    },
    {
     "data": {
      "text/plain": [
       "(None, None)"
      ]
     },
     "execution_count": 10,
     "metadata": {},
     "output_type": "execute_result"
    }
   ],
   "source": [
    "# number of click type \n",
    "print('clicks:', sum(train.type == 0), end = ','), print('clicks:', sum(test.type == 0))\n",
    "print('carts:', sum(train.type == 1), end = ','), print('carts:', sum(test.type == 1))\n",
    "print('orders:', sum(train.type == 2), end = ','), print('orders:', sum(test.type == 2))"
   ]
  },
  {
   "cell_type": "code",
   "execution_count": 11,
   "metadata": {
    "colab": {
     "base_uri": "https://localhost:8080/"
    },
    "executionInfo": {
     "elapsed": 822,
     "status": "ok",
     "timestamp": 1675881371193,
     "user": {
      "displayName": "OMID RAJABI ROSTAMI",
      "userId": "05887203354152499046"
     },
     "user_tz": 300
    },
    "id": "F0KOR90zI0sT",
    "outputId": "f119e86b-1de4-49ec-ff45-1cf0a4caaa8c"
   },
   "outputs": [
    {
     "data": {
      "text/plain": [
       "count    1.801251e+06\n",
       "mean     4.265689e+00\n",
       "std      8.381265e+00\n",
       "min      1.000000e+00\n",
       "25%      1.000000e+00\n",
       "50%      2.000000e+00\n",
       "75%      4.000000e+00\n",
       "max      4.650000e+02\n",
       "Name: aid, dtype: float64"
      ]
     },
     "execution_count": 11,
     "metadata": {},
     "output_type": "execute_result"
    }
   ],
   "source": [
    "test.groupby('session')['aid'].count().describe()"
   ]
  },
  {
   "cell_type": "code",
   "execution_count": 12,
   "metadata": {
    "colab": {
     "base_uri": "https://localhost:8080/"
    },
    "executionInfo": {
     "elapsed": 11,
     "status": "ok",
     "timestamp": 1675881371195,
     "user": {
      "displayName": "OMID RAJABI ROSTAMI",
      "userId": "05887203354152499046"
     },
     "user_tz": 300
    },
    "id": "GSuR5GHCI0wt",
    "outputId": "d873c0a9-e1d6-4d22-e54e-a6cdf45f6ee0"
   },
   "outputs": [
    {
     "data": {
      "text/plain": [
       "(11098527, 11098528)"
      ]
     },
     "execution_count": 12,
     "metadata": {},
     "output_type": "execute_result"
    }
   ],
   "source": [
    "train.session.max(), test.session.min()"
   ]
  },
  {
   "cell_type": "code",
   "execution_count": 13,
   "metadata": {
    "colab": {
     "base_uri": "https://localhost:8080/"
    },
    "executionInfo": {
     "elapsed": 26460,
     "status": "ok",
     "timestamp": 1675881397649,
     "user": {
      "displayName": "OMID RAJABI ROSTAMI",
      "userId": "05887203354152499046"
     },
     "user_tz": 300
    },
    "id": "mJPd66CtSYLz",
    "outputId": "aae55c7d-be40-4cfa-f215-5eedab1b02d0"
   },
   "outputs": [
    {
     "data": {
      "text/plain": [
       "-950647"
      ]
     },
     "execution_count": 13,
     "metadata": {},
     "output_type": "execute_result"
    }
   ],
   "source": [
    "len(set(test.aid.tolist())) - len(set(train.aid.tolist()))"
   ]
  },
  {
   "cell_type": "code",
   "execution_count": 14,
   "metadata": {
    "id": "13VX2RyvuQ2a"
   },
   "outputs": [],
   "source": [
    "test_mode = False\n",
    "encoder_len = 50\n",
    "decoder_len = 20\n",
    "chunks = pd.read_json('out/train_sessions.jsonl', lines=True, chunksize = 128)"
   ]
  },
  {
   "cell_type": "code",
   "execution_count": 15,
   "metadata": {},
   "outputs": [],
   "source": [
    "word2vec = Word2Vec.load(\"Models/word2vec.model\")"
   ]
  },
  {
   "cell_type": "code",
   "execution_count": 16,
   "metadata": {
    "id": "iCIn8duhucnM"
   },
   "outputs": [
    {
     "name": "stdout",
     "output_type": "stream",
     "text": [
      "Model: \"model\"\n",
      "__________________________________________________________________________________________________\n",
      " Layer (type)                   Output Shape         Param #     Connected to                     \n",
      "==================================================================================================\n",
      " input_3 (InputLayer)           [(None, None)]       0           []                               \n",
      "                                                                                                  \n",
      " input_1 (InputLayer)           [(None, None)]       0           []                               \n",
      "                                                                                                  \n",
      " embedding (Embedding)          (None, None, 128)    236068480   ['input_1[0][0]',                \n",
      "                                                                  'input_3[0][0]']                \n",
      "                                                                                                  \n",
      " input_2 (InputLayer)           [(None, None, 4)]    0           []                               \n",
      "                                                                                                  \n",
      " concatenate (Concatenate)      (None, None, 132)    0           ['embedding[0][0]',              \n",
      "                                                                  'input_2[0][0]']                \n",
      "                                                                                                  \n",
      " input_4 (InputLayer)           [(None, None, 4)]    0           []                               \n",
      "                                                                                                  \n",
      " bidirectional (Bidirectional)  [(None, 512),        796672      ['concatenate[0][0]']            \n",
      "                                 (None, 256),                                                     \n",
      "                                 (None, 256),                                                     \n",
      "                                 (None, 256),                                                     \n",
      "                                 (None, 256)]                                                     \n",
      "                                                                                                  \n",
      " concatenate_1 (Concatenate)    (None, None, 132)    0           ['embedding[1][0]',              \n",
      "                                                                  'input_4[0][0]']                \n",
      "                                                                                                  \n",
      " dropout (Dropout)              (None, 256)          0           ['bidirectional[0][1]']          \n",
      "                                                                                                  \n",
      " dropout_1 (Dropout)            (None, 256)          0           ['bidirectional[0][2]']          \n",
      "                                                                                                  \n",
      " dropout_2 (Dropout)            (None, 256)          0           ['bidirectional[0][3]']          \n",
      "                                                                                                  \n",
      " dropout_3 (Dropout)            (None, 256)          0           ['bidirectional[0][4]']          \n",
      "                                                                                                  \n",
      " bidirectional_1 (Bidirectional  [(None, None, 512),  796672     ['concatenate_1[0][0]',          \n",
      " )                               (None, 256),                     'dropout[0][0]',                \n",
      "                                 (None, 256),                     'dropout_1[0][0]',              \n",
      "                                 (None, 256),                     'dropout_2[0][0]',              \n",
      "                                 (None, 256)]                     'dropout_3[0][0]']              \n",
      "                                                                                                  \n",
      " dense (Dense)                  (None, None, 132)    67716       ['bidirectional_1[0][0]']        \n",
      "                                                                                                  \n",
      " tf.__operators__.getitem_1 (Sl  (None, None, 4)     0           ['dense[0][0]']                  \n",
      " icingOpLambda)                                                                                   \n",
      "                                                                                                  \n",
      " tf.__operators__.getitem (Slic  (None, None, 128)   0           ['dense[0][0]']                  \n",
      " ingOpLambda)                                                                                     \n",
      "                                                                                                  \n",
      " activation (Activation)        (None, None, 4)      0           ['tf.__operators__.getitem_1[0][0\n",
      "                                                                 ]']                              \n",
      "                                                                                                  \n",
      " concatenate_2 (Concatenate)    (None, None, 132)    0           ['tf.__operators__.getitem[0][0]'\n",
      "                                                                 , 'activation[0][0]']            \n",
      "                                                                                                  \n",
      "==================================================================================================\n",
      "Total params: 237,729,540\n",
      "Trainable params: 1,661,060\n",
      "Non-trainable params: 236,068,480\n",
      "__________________________________________________________________________________________________\n"
     ]
    }
   ],
   "source": [
    "net = Net(en_len=encoder_len, de_len=decoder_len,\n",
    "          embed_vector_size=128,\n",
    "          embedding_matrix=word2vec.wv.vectors,\n",
    "          vocab_size=len(word2vec.wv.index_to_key))\n",
    "\n",
    "model, encoder_model, decoder_model = net.create_bidirectional_model(256)\n",
    "model.summary()"
   ]
  },
  {
   "cell_type": "code",
   "execution_count": null,
   "metadata": {
    "id": "gLcmqYYG48cM"
   },
   "outputs": [
    {
     "name": "stdout",
     "output_type": "stream",
     "text": [
      "tf.Tensor(1.1946160080117412, shape=(), dtype=float64)\n",
      " Epoch 000: Loss: 1.706\n",
      "tf.Tensor(0.9477410247635502, shape=(), dtype=float64)\n",
      " Epoch 001: Loss: 1.062\n",
      "tf.Tensor(1.0682389820095082, shape=(), dtype=float64)\n",
      " Epoch 002: Loss: 1.011\n",
      "tf.Tensor(1.0342521330754606, shape=(), dtype=float64)\n",
      " Epoch 003: Loss: 1.014\n",
      "tf.Tensor(1.0202228446326649, shape=(), dtype=float64)\n",
      " Epoch 004: Loss: 1.012\n",
      "tf.Tensor(0.9609766085930506, shape=(), dtype=float64)\n",
      " Epoch 005: Loss: 0.930\n",
      "tf.Tensor(0.8456096649984713, shape=(), dtype=float64)\n",
      " Epoch 006: Loss: 0.956\n",
      "tf.Tensor(1.0721256916173543, shape=(), dtype=float64)\n",
      " Epoch 007: Loss: 0.947\n",
      "tf.Tensor(1.0080377397638434, shape=(), dtype=float64)\n",
      " Epoch 008: Loss: 0.942\n",
      "tf.Tensor(1.0645259960228985, shape=(), dtype=float64)\n",
      " Epoch 009: Loss: 0.994\n",
      "tf.Tensor(0.8984246622615742, shape=(), dtype=float64)\n",
      " Epoch 010: Loss: 1.010\n",
      "tf.Tensor(1.0144814656214007, shape=(), dtype=float64)\n",
      " Epoch 011: Loss: 0.982\n",
      "tf.Tensor(1.2114741008483274, shape=(), dtype=float64)\n",
      " Epoch 012: Loss: 0.995\n",
      "tf.Tensor(0.8769281429886909, shape=(), dtype=float64)\n",
      " Epoch 013: Loss: 0.945\n",
      "tf.Tensor(0.9004252559472763, shape=(), dtype=float64)\n",
      " Epoch 014: Loss: 0.965\n",
      "tf.Tensor(0.9615705272851727, shape=(), dtype=float64)\n",
      " Epoch 015: Loss: 0.980\n",
      "tf.Tensor(0.9761062430723031, shape=(), dtype=float64)\n",
      " Epoch 016: Loss: 0.959\n",
      "tf.Tensor(0.9966130509243133, shape=(), dtype=float64)\n",
      " Epoch 017: Loss: 0.997\n",
      "tf.Tensor(0.9158521317989452, shape=(), dtype=float64)\n",
      " Epoch 018: Loss: 0.952\n",
      "tf.Tensor(0.9962141275075989, shape=(), dtype=float64)\n",
      " Epoch 019: Loss: 0.912\n",
      "tf.Tensor(1.0053948141424884, shape=(), dtype=float64)\n",
      " Epoch 020: Loss: 0.932\n",
      "tf.Tensor(1.043551884784617, shape=(), dtype=float64))\n",
      " Epoch 021: Loss: 0.935\n",
      "tf.Tensor(1.0429582577267427, shape=(), dtype=float64)\r"
     ]
    }
   ],
   "source": [
    "train_loss_results = []\n",
    "# Include the epoch in the file name (uses `str.format`)\n",
    "checkpoint_path_model = \"Models/model-{epoch:03d}.ckpt\"\n",
    "checkpoint_dir_model = os.path.dirname(checkpoint_path_model)\n",
    "if not test_mode:\n",
    "    num_epochs = 50\n",
    "    for epoch in range(num_epochs):\n",
    "        epoch_loss_avg = tf.keras.metrics.Mean()\n",
    "        epoch_accuracy = tf.keras.metrics.BinaryAccuracy()\n",
    "        epoch_recall = tf.keras.metrics.Recall()\n",
    "        epoch_precision = tf.keras.metrics.Precision()\n",
    "        i = 0\n",
    "        for chunk in chunks:\n",
    "            i += 1\n",
    "            if i > 10:\n",
    "                break\n",
    "\n",
    "            # print(chunk.head(10))\n",
    "            session_AIDs = chunk.apply((lambda x: [row['aid'] for row in x['events']]), axis=1)\n",
    "            # print(session_AIDs.head(10))\n",
    "            session_types = chunk.apply((lambda x: [row['type'] for row in x['events']]), axis=1)\n",
    "            # print(session_types.head(10))\n",
    "            X_en, Type_en, X_de, Type_x_de, Y_de, Type_y_de = create_word2vec_training_data(session_AIDs, session_types, word2vec,\n",
    "                                                                                            interval_size=[encoder_len, decoder_len])\n",
    "\n",
    "            for j in range(100):\n",
    "                # Optimize the model\n",
    "                loss_value, grads = net.grad(model, [X_en, Type_en, X_de, Type_x_de], np.concatenate([Y_de, Type_y_de], axis=-1))\n",
    "                net.optimizer.apply_gradients(zip(grads, model.trainable_variables))\n",
    "                print(loss_value, end='\\r')\n",
    "\n",
    "            # Track progress\n",
    "            epoch_loss_avg.update_state(loss_value)  # Add current batch loss\n",
    "\n",
    "        # End epoch\n",
    "        train_loss_results.append(epoch_loss_avg.result())\n",
    "\n",
    "\n",
    "        if epoch % 1 == 0:\n",
    "            print(\"\\n Epoch {:03d}: Loss: {:.3f}\".format(epoch, epoch_loss_avg.result()))\n",
    "\n",
    "        # if epoch % 5 == 0:\n",
    "        #     # Save the weights using the `checkpoint_path` format\n",
    "        #     model.save_weights(checkpoint_path_model.format(epoch=epoch))\n"
   ]
  },
  {
   "cell_type": "code",
   "execution_count": null,
   "metadata": {},
   "outputs": [],
   "source": [
    "from matplotlib import pyplot as plt\n",
    "plt.plot(train_loss_results, label='loss')\n",
    "plt.legend()\n",
    "plt.xlabel(\"epochs\")\n",
    "plt.show()"
   ]
  },
  {
   "cell_type": "code",
   "execution_count": null,
   "metadata": {
    "id": "_1VANROZUTo3"
   },
   "outputs": [],
   "source": [
    "if checkpoint_dir_model:\n",
    "    # latest_model = tf.train.latest_checkpoint(checkpoint_dir_model)\n",
    "     # net.model.get_layer('embedding').set_weights([word2vec.wv.vectors])\n",
    "    # net.model.load_weights(latest_model)\n",
    "    prediction('out/test_sessions.jsonl',\n",
    "               net.model,\n",
    "               encoder_model,\n",
    "               decoder_model,\n",
    "               word2vec,\n",
    "               interval_size=[encoder_len, decoder_len])"
   ]
  },
  {
   "cell_type": "code",
   "execution_count": null,
   "metadata": {},
   "outputs": [],
   "source": [
    "from pathlib import Path\n",
    "import evaluate\n",
    "evaluate.main(Path('out/test_labels.jsonl'), Path('out/prediction.csv'))"
   ]
  },
  {
   "cell_type": "code",
   "execution_count": null,
   "metadata": {},
   "outputs": [],
   "source": []
  }
 ],
 "metadata": {
  "accelerator": "GPU",
  "colab": {
   "provenance": []
  },
  "gpuClass": "standard",
  "kernelspec": {
   "display_name": "Python 3 (ipykernel)",
   "language": "python",
   "name": "python3"
  },
  "language_info": {
   "codemirror_mode": {
    "name": "ipython",
    "version": 3
   },
   "file_extension": ".py",
   "mimetype": "text/x-python",
   "name": "python",
   "nbconvert_exporter": "python",
   "pygments_lexer": "ipython3",
   "version": "3.9.13"
  }
 },
 "nbformat": 4,
 "nbformat_minor": 1
}
